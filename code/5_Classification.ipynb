{
 "cells": [
  {
   "cell_type": "markdown",
   "metadata": {},
   "source": [
    "# Table of Contents"
   ]
  },
  {
   "cell_type": "markdown",
   "metadata": {},
   "source": [
    "- [Imports](#Imports)\n",
    "- [Classification](#Classification)\n",
    "- [Load Model](#Load-the-Model)\n",
    "- [Prediction](#Make-Predictions)\n",
    "- [Save](#Save-Results)"
   ]
  },
  {
   "cell_type": "markdown",
   "metadata": {},
   "source": [
    "# Imports"
   ]
  },
  {
   "cell_type": "code",
   "execution_count": 22,
   "metadata": {},
   "outputs": [],
   "source": [
    "import numpy as np\n",
    "import pandas as pd\n",
    "from PIL import Image\n",
    "from keras import utils\n",
    "import matplotlib.pyplot as plt\n",
    "from keras.models import load_model, Sequential\n",
    "from keras.layers import Dense, Dropout, Activation, Flatten\n",
    "from keras.optimizers import Adam\n",
    "from keras import backend as K\n",
    "from keras.applications import VGG16\n",
    "from keras.preprocessing.image import ImageDataGenerator"
   ]
  },
  {
   "cell_type": "code",
   "execution_count": 63,
   "metadata": {},
   "outputs": [],
   "source": [
    "# load data as dataframe (we will generate image data from this)\n",
    "photo_df = pd.read_csv('../datasets/all_pics.csv')"
   ]
  },
  {
   "cell_type": "code",
   "execution_count": 64,
   "metadata": {},
   "outputs": [
    {
     "data": {
      "text/html": [
       "<div>\n",
       "<style scoped>\n",
       "    .dataframe tbody tr th:only-of-type {\n",
       "        vertical-align: middle;\n",
       "    }\n",
       "\n",
       "    .dataframe tbody tr th {\n",
       "        vertical-align: top;\n",
       "    }\n",
       "\n",
       "    .dataframe thead th {\n",
       "        text-align: right;\n",
       "    }\n",
       "</style>\n",
       "<table border=\"1\" class=\"dataframe\">\n",
       "  <thead>\n",
       "    <tr style=\"text-align: right;\">\n",
       "      <th></th>\n",
       "      <th>Unnamed: 0</th>\n",
       "      <th>filename</th>\n",
       "      <th>city</th>\n",
       "      <th>url</th>\n",
       "      <th>latitude</th>\n",
       "      <th>longitude</th>\n",
       "    </tr>\n",
       "  </thead>\n",
       "  <tbody>\n",
       "    <tr>\n",
       "      <th>0</th>\n",
       "      <td>0</td>\n",
       "      <td>./photos_to_classify/1.jpg</td>\n",
       "      <td>New York</td>\n",
       "      <td>https://live.staticflickr.com/65535/4089052561...</td>\n",
       "      <td>40.759220</td>\n",
       "      <td>-73.976891</td>\n",
       "    </tr>\n",
       "    <tr>\n",
       "      <th>1</th>\n",
       "      <td>1</td>\n",
       "      <td>./photos_to_classify/2.jpg</td>\n",
       "      <td>New York</td>\n",
       "      <td>https://live.staticflickr.com/65535/4089027516...</td>\n",
       "      <td>40.719006</td>\n",
       "      <td>-73.997447</td>\n",
       "    </tr>\n",
       "    <tr>\n",
       "      <th>2</th>\n",
       "      <td>2</td>\n",
       "      <td>./photos_to_classify/3.jpg</td>\n",
       "      <td>New York</td>\n",
       "      <td>https://live.staticflickr.com/65535/4694014229...</td>\n",
       "      <td>40.720457</td>\n",
       "      <td>-73.997071</td>\n",
       "    </tr>\n",
       "    <tr>\n",
       "      <th>3</th>\n",
       "      <td>3</td>\n",
       "      <td>./photos_to_classify/4.jpg</td>\n",
       "      <td>New York</td>\n",
       "      <td>https://live.staticflickr.com/65535/4785620686...</td>\n",
       "      <td>40.730180</td>\n",
       "      <td>-73.997042</td>\n",
       "    </tr>\n",
       "    <tr>\n",
       "      <th>4</th>\n",
       "      <td>4</td>\n",
       "      <td>./photos_to_classify/5.jpg</td>\n",
       "      <td>New York</td>\n",
       "      <td>https://live.staticflickr.com/65535/4780397280...</td>\n",
       "      <td>40.718221</td>\n",
       "      <td>-73.997833</td>\n",
       "    </tr>\n",
       "  </tbody>\n",
       "</table>\n",
       "</div>"
      ],
      "text/plain": [
       "   Unnamed: 0                    filename      city  \\\n",
       "0           0  ./photos_to_classify/1.jpg  New York   \n",
       "1           1  ./photos_to_classify/2.jpg  New York   \n",
       "2           2  ./photos_to_classify/3.jpg  New York   \n",
       "3           3  ./photos_to_classify/4.jpg  New York   \n",
       "4           4  ./photos_to_classify/5.jpg  New York   \n",
       "\n",
       "                                                 url   latitude  longitude  \n",
       "0  https://live.staticflickr.com/65535/4089052561...  40.759220 -73.976891  \n",
       "1  https://live.staticflickr.com/65535/4089027516...  40.719006 -73.997447  \n",
       "2  https://live.staticflickr.com/65535/4694014229...  40.720457 -73.997071  \n",
       "3  https://live.staticflickr.com/65535/4785620686...  40.730180 -73.997042  \n",
       "4  https://live.staticflickr.com/65535/4780397280...  40.718221 -73.997833  "
      ]
     },
     "execution_count": 64,
     "metadata": {},
     "output_type": "execute_result"
    }
   ],
   "source": [
    "photo_df.head()"
   ]
  },
  {
   "cell_type": "markdown",
   "metadata": {},
   "source": [
    "# Classification"
   ]
  },
  {
   "cell_type": "markdown",
   "metadata": {},
   "source": [
    "## Load the Model"
   ]
  },
  {
   "cell_type": "markdown",
   "metadata": {},
   "source": [
    "the load_model function from Keras was deprecated. So we need to create a model with layers identical to our successful model, then compile and fit with 0 epochs. The weights are loaded from our saved h5 file from previous training."
   ]
  },
  {
   "cell_type": "code",
   "execution_count": 16,
   "metadata": {},
   "outputs": [
    {
     "name": "stdout",
     "output_type": "stream",
     "text": [
      "Found 4000 images belonging to 4 classes.\n",
      "Found 1200 images belonging to 4 classes.\n"
     ]
    }
   ],
   "source": [
    "# specify paths to the directories containing our train and validation images\n",
    "train_dir = '../picture_data/train'\n",
    "\n",
    "# the output classes we want to predict\n",
    "classes = ['food', 'culture', \n",
    "           'view', 'park']\n",
    "\n",
    "# Generate train batches from generator. The input to the VGG16 model has to be of size \n",
    "# (224, 224), hence the target size\n",
    "train_batches = ImageDataGenerator().flow_from_directory(train_dir, \n",
    "                                                         target_size=(224, 224),\n",
    "                                                         classes = classes, \n",
    "                                                         batch_size = 400)"
   ]
  },
  {
   "cell_type": "code",
   "execution_count": 17,
   "metadata": {},
   "outputs": [],
   "source": [
    "# load most successful model \n",
    "# recreate model with similar layers\n",
    "conv_base = VGG16()\n",
    "classifier = Sequential()\n",
    "for layer in conv_base.layers[0:-1]:\n",
    "    classifier.add(layer)\n",
    "    \n",
    "classifier.add(Dropout(0.5))\n",
    "classifier.add(Dense(4, activation='softmax'))"
   ]
  },
  {
   "cell_type": "code",
   "execution_count": 23,
   "metadata": {},
   "outputs": [],
   "source": [
    "# compile the model\n",
    "classifier.compile(loss='categorical_crossentropy',\n",
    "                   optimizer=Adam(lr=0.0001),\n",
    "                   metrics=['accuracy'])"
   ]
  },
  {
   "cell_type": "code",
   "execution_count": 24,
   "metadata": {},
   "outputs": [
    {
     "data": {
      "text/plain": [
       "<keras.callbacks.History at 0x7fb8d283eb38>"
      ]
     },
     "execution_count": 24,
     "metadata": {},
     "output_type": "execute_result"
    }
   ],
   "source": [
    "# fit on 0 epochs. we will load the weights from our saved model\n",
    "classifier.fit_generator(train_batches, \n",
    "                         epochs=0,\n",
    "                         validation_data = valid_batches)"
   ]
  },
  {
   "cell_type": "code",
   "execution_count": 25,
   "metadata": {},
   "outputs": [],
   "source": [
    "# load the weights from saved model\n",
    "classifier.load_weights('../data/keras_models/vgg16_dataaug_model.h5')"
   ]
  },
  {
   "cell_type": "markdown",
   "metadata": {},
   "source": [
    "## Make Predictions"
   ]
  },
  {
   "cell_type": "code",
   "execution_count": 34,
   "metadata": {},
   "outputs": [
    {
     "name": "stdout",
     "output_type": "stream",
     "text": [
      "Found 16821 images.\n"
     ]
    }
   ],
   "source": [
    "# test batches are generated from the dataframe we updated when we downloaded the images to classify\n",
    "test_batches = ImageDataGenerator().flow_from_dataframe(photo_df,\n",
    "                                                        class_mode = None,\n",
    "                                                        shuffle = False,\n",
    "                                                        target_size=(224, 224), \n",
    "                                                        batch_size = 32)"
   ]
  },
  {
   "cell_type": "code",
   "execution_count": 35,
   "metadata": {
    "scrolled": true
   },
   "outputs": [
    {
     "name": "stdout",
     "output_type": "stream",
     "text": [
      "526/526 [==============================] - 3780s 7s/step\n"
     ]
    }
   ],
   "source": [
    "# Make predictions\n",
    "predictions = classifier.predict_generator(test_batches, verbose=1)"
   ]
  },
  {
   "cell_type": "code",
   "execution_count": 67,
   "metadata": {},
   "outputs": [],
   "source": [
    "# We will check the predictions, assign them to their corresponding label and add that to the dataframe\n",
    "\n",
    "# initialize label list\n",
    "labels = []\n",
    "index = 0\n",
    "\n",
    "# loop through predictions\n",
    "for pred in predictions:\n",
    "    # round them to get at most 1 label with rounded probability = 1\n",
    "    rounded = [round(p) for p in pred]\n",
    "    if (rounded[0] == 1):\n",
    "        labels.append('food')\n",
    "    elif (rounded[1] == 1):\n",
    "        labels.append('culture')\n",
    "    elif (rounded[2] == 1):\n",
    "        labels.append('view')\n",
    "    elif (rounded[3] == 1):\n",
    "        labels.append('park')\n",
    "    else:\n",
    "        labels.append('')\n",
    "    index += 1\n",
    "    \n",
    "# add new column\n",
    "photo_df['labels'] = labels"
   ]
  },
  {
   "cell_type": "markdown",
   "metadata": {},
   "source": [
    "# Save Results"
   ]
  },
  {
   "cell_type": "markdown",
   "metadata": {},
   "source": [
    "Will be used for mapping"
   ]
  },
  {
   "cell_type": "code",
   "execution_count": 81,
   "metadata": {},
   "outputs": [],
   "source": [
    "photo_df.to_csv('../datasets/photos_with_pred.csv')"
   ]
  }
 ],
 "metadata": {
  "kernelspec": {
   "display_name": "Python 3",
   "language": "python",
   "name": "python3"
  },
  "language_info": {
   "codemirror_mode": {
    "name": "ipython",
    "version": 3
   },
   "file_extension": ".py",
   "mimetype": "text/x-python",
   "name": "python",
   "nbconvert_exporter": "python",
   "pygments_lexer": "ipython3",
   "version": "3.6.5"
  }
 },
 "nbformat": 4,
 "nbformat_minor": 2
}
