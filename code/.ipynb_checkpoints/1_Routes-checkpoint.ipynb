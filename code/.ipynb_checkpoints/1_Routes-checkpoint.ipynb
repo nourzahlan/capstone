{
 "cells": [
  {
   "cell_type": "markdown",
   "metadata": {},
   "source": [
    "# Table of Contents"
   ]
  },
  {
   "cell_type": "markdown",
   "metadata": {},
   "source": [
    "- [Imports](#Imports-and-Configuration)\n",
    "- [Routing](#Routing)\n",
    "- [Save](#Save-Results)"
   ]
  },
  {
   "cell_type": "markdown",
   "metadata": {},
   "source": [
    "# Imports and Configuration"
   ]
  },
  {
   "cell_type": "code",
   "execution_count": 1,
   "metadata": {},
   "outputs": [],
   "source": [
    "import numpy as np\n",
    "import pandas as pd\n",
    "import matplotlib.pyplot as plt\n",
    "import os\n",
    "import googlemaps\n",
    "import requests\n",
    "from googlemaps import convert"
   ]
  },
  {
   "cell_type": "code",
   "execution_count": 2,
   "metadata": {},
   "outputs": [],
   "source": [
    "# Get API key\n",
    "with open('../api_key_maps.txt') as f:\n",
    "    api_key = f.readline()\n",
    "    f.close"
   ]
  },
  {
   "cell_type": "markdown",
   "metadata": {},
   "source": [
    "# Routing"
   ]
  },
  {
   "cell_type": "markdown",
   "metadata": {},
   "source": [
    "To generate routes we use the google directions API."
   ]
  },
  {
   "cell_type": "code",
   "execution_count": 3,
   "metadata": {},
   "outputs": [
    {
     "name": "stdout",
     "output_type": "stream",
     "text": [
      "Where are you leaving from? New York City\n",
      "Where are you going? Dallas\n"
     ]
    }
   ],
   "source": [
    "# Get user input for departure and arrival cities\n",
    "departure = input('Where are you leaving from? ')\n",
    "destination = input('Where are you going? ')"
   ]
  },
  {
   "cell_type": "code",
   "execution_count": 4,
   "metadata": {},
   "outputs": [],
   "source": [
    "# get the route from the user inputs. \n",
    "# alternatives = True tells the function to return more than 1 route (if there are any) \n",
    "# so that the user can choose the one he prefers\n",
    "client = googlemaps.client.Client(key = api_key)\n",
    "routes = googlemaps.directions.directions(client = client,\n",
    "                                          origin = departure,\n",
    "                                          destination = destination, \n",
    "                                          alternatives = True, \n",
    "                                          mode = 'driving')"
   ]
  },
  {
   "cell_type": "code",
   "execution_count": 5,
   "metadata": {},
   "outputs": [],
   "source": [
    "# Not really an area calculation, but to filter out the results for stopover cities to only return big cities \n",
    "def areaid(place_id):\n",
    "    # return the bounding box coordinates for the city\n",
    "    place = googlemaps.places.place(client=client, place_id = place_id, fields=['geometry'])\n",
    "    \n",
    "    # assign them to variables\n",
    "    max_lat = place['result']['geometry']['viewport']['northeast']['lat']\n",
    "    max_lng = place['result']['geometry']['viewport']['northeast']['lng']\n",
    "    min_lat = place['result']['geometry']['viewport']['southwest']['lat']\n",
    "    min_lng = place['result']['geometry']['viewport']['southwest']['lng']\n",
    "    \n",
    "    # get the \"area\" and return \n",
    "    height = abs(max_lat - min_lat)\n",
    "    width = abs(max_lng - min_lng)\n",
    "    area = height*width\n",
    "    return area"
   ]
  },
  {
   "cell_type": "code",
   "execution_count": 6,
   "metadata": {},
   "outputs": [],
   "source": [
    "# Explore each route and look for stopover cities within the routes\n",
    "client = googlemaps.client.Client(key = api_key)\n",
    "\n",
    "# Initialize list of routes with stopover cities\n",
    "cities_route = [[] for a in range(len(routes))]\n",
    "\n",
    "# Loop through each route\n",
    "# routes are broken down as: route -> legs -> steps\n",
    "for index, route in enumerate(routes):\n",
    "    # we always have only 1 leg here since we didnt specify any waypoints \n",
    "    for leg in route['legs']:\n",
    "        # loop through each step (in this case they make up for all the route)\n",
    "        for step in leg['steps']:\n",
    "            # get the end coordinates\n",
    "            lat = step['end_location']['lat']\n",
    "            lon = step['end_location']['lng']\n",
    "            # look for cities in that area (within 5 Km)\n",
    "            places_found = googlemaps.places.places_nearby(client = client, \n",
    "                                                           radius = 5000,\n",
    "                                                           location = (lat, lon),\n",
    "                                                           type = 'cities')\n",
    "            \n",
    "            # go through the results and select only those that have a big enough area (using function defined above)\n",
    "            for place in places_found['results']:\n",
    "                if (place['name'] not in cities_route[index]):\n",
    "                    if ('locality' in place['types']) and ('political' in place['types']):\n",
    "                        # from observations the big cities always had that value greater than 0.1\n",
    "                        if(areaid(place['place_id']) > 0.1):\n",
    "                            cities_route[index].append(place['name'])"
   ]
  },
  {
   "cell_type": "code",
   "execution_count": 7,
   "metadata": {},
   "outputs": [
    {
     "name": "stdout",
     "output_type": "stream",
     "text": [
      "Route Number  1 :\n",
      "['New York', 'Nashville', 'Memphis', 'Dallas']\n",
      "Route Number  2 :\n",
      "['New York', 'Lexington', 'Nashville', 'Memphis', 'Dallas']\n",
      "Route Number  3 :\n",
      "['New York', 'Columbus', 'Louisville', 'Nashville', 'Memphis', 'Dallas']\n"
     ]
    }
   ],
   "source": [
    "# print the alternative routes\n",
    "for route_number in range(1, len(cities_route)+1):\n",
    "    print(\"Route Number \", route_number, ':')\n",
    "    print(cities_route[route_number-1]) "
   ]
  },
  {
   "cell_type": "code",
   "execution_count": 8,
   "metadata": {},
   "outputs": [
    {
     "name": "stdout",
     "output_type": "stream",
     "text": [
      "Choose your favorite route 1\n"
     ]
    }
   ],
   "source": [
    "# let user choose the best one\n",
    "choice = ''\n",
    "while (choice != '1' and choice != '2' and choice != '3'):\n",
    "    choice = input('Choose your favorite route ')\n",
    "chosen_route = cities_route[int(choice)-1]"
   ]
  },
  {
   "cell_type": "markdown",
   "metadata": {},
   "source": [
    "# Save Results"
   ]
  },
  {
   "cell_type": "code",
   "execution_count": 9,
   "metadata": {},
   "outputs": [],
   "source": [
    "# save chosen route to a dataframe\n",
    "routes_df = pd.DataFrame({'Cities': chosen_route})\n",
    "routes_df.to_csv('../datasets/route.csv')"
   ]
  }
 ],
 "metadata": {
  "kernelspec": {
   "display_name": "Python 3",
   "language": "python",
   "name": "python3"
  },
  "language_info": {
   "codemirror_mode": {
    "name": "ipython",
    "version": 3
   },
   "file_extension": ".py",
   "mimetype": "text/x-python",
   "name": "python",
   "nbconvert_exporter": "python",
   "pygments_lexer": "ipython3",
   "version": "3.7.3"
  }
 },
 "nbformat": 4,
 "nbformat_minor": 2
}
