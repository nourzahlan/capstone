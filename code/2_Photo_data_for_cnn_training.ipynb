{
 "cells": [
  {
   "cell_type": "markdown",
   "metadata": {},
   "source": [
    "# Table of Contents"
   ]
  },
  {
   "cell_type": "markdown",
   "metadata": {},
   "source": [
    "- [Imports](#Imports-and-Configuration)\n",
    "- [Photo Downloads](#Photo-Download)"
   ]
  },
  {
   "cell_type": "markdown",
   "metadata": {},
   "source": [
    "# Imports and Configuration"
   ]
  },
  {
   "cell_type": "markdown",
   "metadata": {},
   "source": [
    "Import necessary packages and set API keys/ configure APIs"
   ]
  },
  {
   "cell_type": "code",
   "execution_count": 1,
   "metadata": {},
   "outputs": [],
   "source": [
    "import pandas as pd\n",
    "import numpy as np\n",
    "import folium\n",
    "import geocoder\n",
    "import xml\n",
    "import urllib\n",
    "from PIL import Image\n",
    "import matplotlib.pyplot as plt\n",
    "import flickr_api as flickr\n",
    "import googlemaps\n",
    "import time\n",
    "import requests\n",
    "from googlemaps import convert\n",
    "flickr.set_keys(api_key = '4ea697590240af7b4ced24c4e46b3d41', api_secret = '855a29a3e8cd2677')"
   ]
  },
  {
   "cell_type": "code",
   "execution_count": 2,
   "metadata": {},
   "outputs": [
    {
     "name": "stdout",
     "output_type": "stream",
     "text": [
      "https://www.flickr.com/services/oauth/authorize?oauth_token=72157707122717761-086fc3e8e7beba6d&perms=write\n"
     ]
    }
   ],
   "source": [
    "# source https://github.com/alexis-mignon/python-flickr-api/wiki/Flickr-API-Keys-and-Authentication\n",
    "a = flickr.auth.AuthHandler() # creates a new AuthHandler object\n",
    "perms = \"write\" # set the required permissions\n",
    "url = a.get_authorization_url(perms)\n",
    "print(url)"
   ]
  },
  {
   "cell_type": "code",
   "execution_count": 3,
   "metadata": {},
   "outputs": [],
   "source": [
    "a.set_verifier('327dd0dcdbb54401') # copy your oauth_verifier tag here!\n",
    "flickr.set_auth_handler(a)\n",
    "a.save('.auth.txt')\n",
    "flickr.set_auth_handler(\".auth.txt\")"
   ]
  },
  {
   "cell_type": "markdown",
   "metadata": {},
   "source": [
    "# Photo Download"
   ]
  },
  {
   "cell_type": "markdown",
   "metadata": {},
   "source": [
    "We're using the Flickr API here to get images to train the model on. We want to get images that belong to either 'food', 'view', 'park' or 'art' classes so we are using the tag parameter to filter returned images. \n",
    "For our neural network training we need 1000 images per class for training and 300 images per class for validation"
   ]
  },
  {
   "cell_type": "code",
   "execution_count": 5,
   "metadata": {},
   "outputs": [
    {
     "name": "stdout",
     "output_type": "stream",
     "text": [
      "downloading pictures for art\n"
     ]
    }
   ],
   "source": [
    "# Looking for pictures with  the following tags\n",
    "tags = ['food', 'coffee', \n",
    "        'art', 'view', \n",
    "        'park']\n",
    "\n",
    "# Download photos \n",
    "# for each tag we need to download 1300 images (1000 to train and 300 to validate)\n",
    "for tag_current in tags:\n",
    "    print('downloading pictures for', tag_current)\n",
    "    # dictionary with usernames and the number of photos we have from this user. \n",
    "    # this is done to ensure not getting spams/ too many pictures from one user\n",
    "    # and also to get a variety of images\n",
    "    user_photo_counts = {}\n",
    "    \n",
    "    # we will loop through pages\n",
    "    page_number = 1 \n",
    "    \n",
    "    # initialize the urls list, to keep track of the number of images downloaded\n",
    "    # food and coffee are in the same class, so we want half the number of images\n",
    "    # also since we are moving images to train and validation directories based on filenames, \n",
    "    # we want the directory to contain equal number of \n",
    "    # food and coffee images in 0 - 1000 this is just to keep the classes balanced and not give our training set \n",
    "    # mostly food pictures and our validation set only pictures of coffee\n",
    "    urls = []\n",
    "    if ((tag_current == 'food') or (tag_current == 'coffee')):\n",
    "        len_urls = 800\n",
    "        if (tag_current == 'food'):\n",
    "            file_number = 1\n",
    "        else:\n",
    "            file_number = 2\n",
    "    else:\n",
    "        len_urls = 1300\n",
    "        file_number = 1\n",
    "    while (len(urls) < len_urls):\n",
    "        photo_search = flickr.Photo.search(api_key = '4ea697590240af7b4ced24c4e46b3d41',  \n",
    "                                           per_page = 500,\n",
    "                                           lat = 40.71455,\n",
    "                                           lon = -74.00713,\n",
    "                                           tags = tag_current,\n",
    "                                           page = page_number,\n",
    "                                           accuracy = 11,\n",
    "                                           content_type = 1,\n",
    "                                           media = 'photos') \n",
    "        for photo in photo_search:\n",
    "            try:\n",
    "                # update user photo count dictionary\n",
    "                user_name = photo.getInfo()['owner'].username\n",
    "                if user_name in user_photo_counts.keys():\n",
    "                    user_photo_counts[user_name] += 1\n",
    "                else:\n",
    "                    user_photo_counts[user_name] = 1\n",
    "                # keep photo only if we have less than 10 images from that person\n",
    "                if user_photo_counts[user_name] <= 10:\n",
    "                    url = photo.get('url_c')\n",
    "                    urls.append(url)\n",
    "                    # specify folder depending on the tag\n",
    "                    if ((tag_current == 'food') or (tag_current == 'coffee')):\n",
    "                        place = 'food'\n",
    "                    elif (tag_current == 'art'):\n",
    "                        place = 'culture'\n",
    "                    elif tag_current == 'view':\n",
    "                        place = 'view'\n",
    "                    elif tag_current == 'park':\n",
    "                        place = 'park'\n",
    "                    elif tag_current == 'hotel':\n",
    "                        place = 'hotel'\n",
    "                    # get the path the picture will be saved to\n",
    "                    path = '../picture_data/' + place + '/ ' + place + str(file_number) + '.jpg'\n",
    "                    try:\n",
    "                        urllib.request.urlretrieve(url, path)\n",
    "                        image = Image.open(path)\n",
    "                        image = image.resize((256, 256), Image.ANTIALIAS)\n",
    "                        image.save(path)\n",
    "                        if ((tag_current == 'food') or (tag_current == 'coffee')):\n",
    "                            file_number += 2\n",
    "                        else:\n",
    "                            file_number += 1\n",
    "                    except:\n",
    "                        pass\n",
    "            except:\n",
    "                pass\n",
    "\n",
    "        page_number += 1"
   ]
  }
 ],
 "metadata": {
  "kernelspec": {
   "display_name": "Python 3",
   "language": "python",
   "name": "python3"
  },
  "language_info": {
   "codemirror_mode": {
    "name": "ipython",
    "version": 3
   },
   "file_extension": ".py",
   "mimetype": "text/x-python",
   "name": "python",
   "nbconvert_exporter": "python",
   "pygments_lexer": "ipython3",
   "version": "3.6.5"
  }
 },
 "nbformat": 4,
 "nbformat_minor": 2
}
